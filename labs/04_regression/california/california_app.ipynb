{
 "cells": [
  {
   "cell_type": "code",
   "execution_count": 19,
   "metadata": {},
   "outputs": [],
   "source": [
    "import numpy as np\n",
    "\n",
    "def exp_neg(x):\n",
    "    return np.exp(-x)"
   ]
  },
  {
   "cell_type": "code",
   "execution_count": 20,
   "metadata": {},
   "outputs": [],
   "source": [
    "import joblib\n",
    "\n",
    "model = joblib.load('model.pkl')"
   ]
  },
  {
   "cell_type": "code",
   "execution_count": 21,
   "metadata": {},
   "outputs": [
    {
     "name": "stdout",
     "output_type": "stream",
     "text": [
      "Vamos fazer predições com o modelo treinado\n",
      "Modelo: Pipeline(steps=[('col_transform',\n",
      "                 ColumnTransformer(transformers=[('latlong',\n",
      "                                                  Pipeline(steps=[('scaler',\n",
      "                                                                   StandardScaler()),\n",
      "                                                                  ('clusterer',\n",
      "                                                                   KMeans(n_clusters=2000,\n",
      "                                                                          random_state=42)),\n",
      "                                                                  ('inverter',\n",
      "                                                                   FunctionTransformer(func=<function exp_neg at 0x00000253364818A0>))]),\n",
      "                                                  ['Latitude', 'Longitude']),\n",
      "                                                 ('remaining',\n",
      "                                                  Pipeline(steps=[('scaler',\n",
      "                                                                   StandardScaler()),\n",
      "                                                                  ('poly',\n",
      "                                                                   PolynomialFeatures(degree=3,\n",
      "                                                                                      include_bias=False))]),\n",
      "                                                  ['MedInc', 'HouseAge',\n",
      "                                                   'AveRooms', 'AveBedrms',\n",
      "                                                   'Population',\n",
      "                                                   'AveOccup'])])),\n",
      "                ('model', Ridge(alpha=0.0001))])\n"
     ]
    }
   ],
   "source": [
    "print('Vamos fazer predições com o modelo treinado')\n",
    "print('Modelo:', model)"
   ]
  },
  {
   "cell_type": "code",
   "execution_count": 22,
   "metadata": {},
   "outputs": [],
   "source": [
    "MedInc = float(input('Entre com MedInc'))\n",
    "HouseAge = float(input('Entre com HouseAge'))\n",
    "AveRooms = float(input('Entre com AveRooms'))\n",
    "AveBedrms = float(input('Entre com AveBedrms'))\n",
    "Population = float(input('Entre com Population'))\n",
    "AveOccup = float(input('Entre com AveOccup'))\n",
    "Latitude = float(input('Entre com Latitude'))\n",
    "Longitude = float(input('Entre com Longitude'))"
   ]
  },
  {
   "cell_type": "code",
   "execution_count": 23,
   "metadata": {},
   "outputs": [],
   "source": [
    "import numpy as np\n",
    "import pandas as pd"
   ]
  },
  {
   "cell_type": "code",
   "execution_count": 24,
   "metadata": {},
   "outputs": [],
   "source": [
    "x_input = np.array([[\n",
    "    MedInc,\n",
    "    HouseAge,\n",
    "    AveRooms,\n",
    "    AveBedrms,\n",
    "    Population,\n",
    "    AveOccup,\n",
    "    Latitude,\n",
    "    Longitude,\n",
    "]])\n",
    "\n",
    "x_input = pd.DataFrame(\n",
    "    x_input,\n",
    "    columns=[\n",
    "        'MedInc',\n",
    "        'HouseAge',\n",
    "        'AveRooms',\n",
    "        'AveBedrms',\n",
    "        'Population',\n",
    "        'AveOccup',\n",
    "        'Latitude',\n",
    "        'Longitude',\n",
    "    ],\n",
    ")\n"
   ]
  },
  {
   "cell_type": "code",
   "execution_count": 25,
   "metadata": {},
   "outputs": [],
   "source": [
    "y_pred = model.predict(x_input)"
   ]
  },
  {
   "cell_type": "code",
   "execution_count": 26,
   "metadata": {},
   "outputs": [
    {
     "data": {
      "text/plain": [
       "array([4.48441483])"
      ]
     },
     "execution_count": 26,
     "metadata": {},
     "output_type": "execute_result"
    }
   ],
   "source": [
    "np.exp(y_pred)"
   ]
  },
  {
   "cell_type": "code",
   "execution_count": null,
   "metadata": {},
   "outputs": [],
   "source": []
  }
 ],
 "metadata": {
  "kernelspec": {
   "display_name": "ml",
   "language": "python",
   "name": "python3"
  },
  "language_info": {
   "codemirror_mode": {
    "name": "ipython",
    "version": 3
   },
   "file_extension": ".py",
   "mimetype": "text/x-python",
   "name": "python",
   "nbconvert_exporter": "python",
   "pygments_lexer": "ipython3",
   "version": "3.12.4"
  }
 },
 "nbformat": 4,
 "nbformat_minor": 2
}
